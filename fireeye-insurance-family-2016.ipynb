{
 "cells": [
  {
   "cell_type": "markdown",
   "metadata": {},
   "source": [
    "## FireEye Health Insurance 2016 Analysis  \n",
    "\n",
    "## Family Plans  \n",
    "\n",
    "### Assumptions and Notes:  \n",
    "\n",
    "* In-network procedures \n",
    "* All medical bills are paid pre-tax (via either HSAs or FSAs).\n",
    "* These cost calcuations do NOT take into account prescription drugs (which is something the PPO plans tend to be superior in)."
   ]
  },
  {
   "cell_type": "markdown",
   "metadata": {},
   "source": [
    "### Plan Details"
   ]
  },
  {
   "cell_type": "code",
   "execution_count": 15,
   "metadata": {
    "collapsed": false
   },
   "outputs": [],
   "source": [
    "%matplotlib inline\n",
    "import matplotlib\n",
    "import numpy as np\n",
    "import matplotlib.pyplot as plt\n",
    "\n",
    "class Plan: pass\n",
    "\n",
    "# Plan 1 = Cigna HDHP/HSA\n",
    "p1 = Plan()    \n",
    "p1.family_deductible = 4000.00     # Same deductible for both family and individual\n",
    "p1.individual_deductible = 4000.00\n",
    "p1.family_oopmax = 6000.00      # Same out-of-pocket max for family and individual\n",
    "p1.individual_oopmax = 6000.00\n",
    "p1.premium_monthly = 48*2 # price/pay period * 2 pay periods/month\n",
    "p1.hsa_contribution = 2400.00\n",
    "p1.coinsurance_rate = 0.1\n",
    "\n",
    "# Plan 2 = Cigna PPO $1000\n",
    "p2 = Plan()\n",
    "p2.family_deductible = 2000.00\n",
    "p2.individual_deductible = 1000.00\n",
    "p2.family_oopmax = 8000.00\n",
    "p2.individual_oopmax = 4000.00\n",
    "p2.premium_monthly = 48*2 # price/pay period * 2 pay periods/month\n",
    "p2.hsa_contribution = 0.0\n",
    "p2.coinsurance_rate = 0.2\n",
    "\n",
    "# Plan 3 = Cigna PPO $500\n",
    "p3 = Plan()\n",
    "p3.family_deductible = 1000.00\n",
    "p3.individual_deductible = 500.00\n",
    "p3.family_oopmax = 7000.00\n",
    "p3.individual_oopmax = 3500.00\n",
    "p3.premium_monthly = 113*2 # price/pay period * 2 pay periods/month\n",
    "p3.hsa_contribution = 0.0\n",
    "p3.coinsurance_rate = 0.1"
   ]
  },
  {
   "cell_type": "markdown",
   "metadata": {},
   "source": [
    "### Helper functions"
   ]
  },
  {
   "cell_type": "code",
   "execution_count": 16,
   "metadata": {
    "collapsed": false
   },
   "outputs": [],
   "source": [
    "# For the purposes of this estimation, we are assuming the deductible\n",
    "# is always larger than the HSA contribution amount\n",
    "def apply_deductible_and_hsa(cost, deductible, hsa):\n",
    "    cost_to_you = 0\n",
    "    cost_remaining = 0\n",
    "    \n",
    "    # Apply HSA\n",
    "    deductible_minus_hsa = deductible - hsa\n",
    "    \n",
    "    if cost <= hsa:\n",
    "        cost_to_you = 0\n",
    "        cost_remaining = 0\n",
    "    elif cost <= deductible:\n",
    "        cost_to_you = cost - hsa\n",
    "        cost_remaining = 0\n",
    "    elif cost > deductible:\n",
    "        cost_to_you = deductible_minus_hsa\n",
    "        cost_remaining = cost - deductible\n",
    "\n",
    "    return (cost_to_you, cost_remaining)\n",
    "\n",
    "def apply_coinsurance(cost, coinsurance_rate):\n",
    "    return cost * coinsurance_rate\n",
    "\n",
    "def apply_oopmax(cost, oopmax):\n",
    "    if cost >= oopmax:\n",
    "        return oopmax\n",
    "    else:\n",
    "        return cost\n",
    "    \n",
    "def setup_graph(title='', x_label='', y_label='', fig_size=None):\n",
    "    fig = plt.figure()\n",
    "    if fig_size != None:\n",
    "        fig.set_size_inches(fig_size[0], fig_size[1])\n",
    "    ax = fig.add_subplot(111)\n",
    "    ax.set_title(title)\n",
    "    ax.set_xlabel(x_label)\n",
    "    ax.set_ylabel(y_label)\n",
    "    "
   ]
  },
  {
   "cell_type": "markdown",
   "metadata": {},
   "source": [
    "### Plan cost functions"
   ]
  },
  {
   "cell_type": "code",
   "execution_count": 17,
   "metadata": {
    "collapsed": false
   },
   "outputs": [],
   "source": [
    "def individual_cost(plan, gross_cost):\n",
    "    (cost_to_you, cost_remaining) = apply_deductible_and_hsa(gross_cost, \n",
    "                                    plan.individual_deductible, \n",
    "                                    plan.hsa_contribution)\n",
    "    cost_to_you += apply_coinsurance(cost_remaining, plan.coinsurance_rate)\n",
    "    cost_to_you = apply_oopmax(cost_to_you, plan.individual_oopmax)\n",
    "    \n",
    "    # Apply yearly premiums - note that the out-of-pocket max doesn't include\n",
    "    # the premiums; thus, we apply them after applying out-of-pocket max.\n",
    "    cost_to_you += (plan.premium_monthly * 12)\n",
    "    return cost_to_you\n",
    "    \n",
    "    \n",
    "def family_cost(plan, gross_cost):\n",
    "    (cost_to_you, cost_remaining) = apply_deductible_and_hsa(gross_cost, \n",
    "                                    plan.family_deductible, \n",
    "                                    plan.hsa_contribution)\n",
    "    cost_to_you += apply_coinsurance(cost_remaining, plan.coinsurance_rate)\n",
    "    cost_to_you = apply_oopmax(cost_to_you, plan.family_oopmax)\n",
    "    \n",
    "    # Apply yearly premiums - note that the out-of-pocket max doesn't include\n",
    "    # the premiums; thus, we apply them after applying out-of-pocket max.\n",
    "    cost_to_you += (plan.premium_monthly * 12)\n",
    "    return cost_to_you\n"
   ]
  },
  {
   "cell_type": "markdown",
   "metadata": {},
   "source": [
    "### Sanity Tests"
   ]
  },
  {
   "cell_type": "markdown",
   "metadata": {},
   "source": [
    "#### Zero costs"
   ]
  },
  {
   "cell_type": "code",
   "execution_count": 18,
   "metadata": {
    "collapsed": false
   },
   "outputs": [
    {
     "data": {
      "text/plain": [
       "1152.0"
      ]
     },
     "execution_count": 18,
     "metadata": {},
     "output_type": "execute_result"
    }
   ],
   "source": [
    "# Should be the monthly premium times 12 (to make up the yearly premium).\n",
    "family_cost(p1, 0)"
   ]
  },
  {
   "cell_type": "code",
   "execution_count": 19,
   "metadata": {
    "collapsed": false
   },
   "outputs": [
    {
     "data": {
      "text/plain": [
       "1152.0"
      ]
     },
     "execution_count": 19,
     "metadata": {},
     "output_type": "execute_result"
    }
   ],
   "source": [
    "p1.premium_monthly * 12.0"
   ]
  },
  {
   "cell_type": "code",
   "execution_count": 20,
   "metadata": {
    "collapsed": false
   },
   "outputs": [
    {
     "data": {
      "text/plain": [
       "1152.0"
      ]
     },
     "execution_count": 20,
     "metadata": {},
     "output_type": "execute_result"
    }
   ],
   "source": [
    "family_cost(p2, 0)"
   ]
  },
  {
   "cell_type": "code",
   "execution_count": 21,
   "metadata": {
    "collapsed": false
   },
   "outputs": [
    {
     "data": {
      "text/plain": [
       "1152.0"
      ]
     },
     "execution_count": 21,
     "metadata": {},
     "output_type": "execute_result"
    }
   ],
   "source": [
    "p2.premium_monthly * 12.0"
   ]
  },
  {
   "cell_type": "code",
   "execution_count": 22,
   "metadata": {
    "collapsed": false
   },
   "outputs": [
    {
     "data": {
      "text/plain": [
       "2712.0"
      ]
     },
     "execution_count": 22,
     "metadata": {},
     "output_type": "execute_result"
    }
   ],
   "source": [
    "family_cost(p3, 0)"
   ]
  },
  {
   "cell_type": "code",
   "execution_count": 23,
   "metadata": {
    "collapsed": false
   },
   "outputs": [
    {
     "data": {
      "text/plain": [
       "2712.0"
      ]
     },
     "execution_count": 23,
     "metadata": {},
     "output_type": "execute_result"
    }
   ],
   "source": [
    "p3.premium_monthly * 12.0"
   ]
  },
  {
   "cell_type": "markdown",
   "metadata": {},
   "source": [
    "#### Cost less than HSA"
   ]
  },
  {
   "cell_type": "code",
   "execution_count": 24,
   "metadata": {
    "collapsed": false
   },
   "outputs": [
    {
     "data": {
      "text/plain": [
       "True"
      ]
     },
     "execution_count": 24,
     "metadata": {},
     "output_type": "execute_result"
    }
   ],
   "source": [
    "# Should be monthly premium times 12\n",
    "family_cost(p1, 2400) == p1.premium_monthly * 12"
   ]
  },
  {
   "cell_type": "markdown",
   "metadata": {},
   "source": [
    "#### Cost greater than HSA and deductible"
   ]
  },
  {
   "cell_type": "code",
   "execution_count": 25,
   "metadata": {
    "collapsed": false
   },
   "outputs": [
    {
     "data": {
      "text/plain": [
       "2952.0"
      ]
     },
     "execution_count": 25,
     "metadata": {},
     "output_type": "execute_result"
    }
   ],
   "source": [
    "(p1.premium_monthly * 12) + \\\n",
    "(p1.family_deductible - p1.hsa_contribution) + \\\n",
    "(6000 - p1.family_deductible) * p1.coinsurance_rate"
   ]
  },
  {
   "cell_type": "code",
   "execution_count": 26,
   "metadata": {
    "collapsed": false
   },
   "outputs": [
    {
     "data": {
      "text/plain": [
       "2952.0"
      ]
     },
     "execution_count": 26,
     "metadata": {},
     "output_type": "execute_result"
    }
   ],
   "source": [
    "family_cost(p1, 6000)"
   ]
  },
  {
   "cell_type": "markdown",
   "metadata": {},
   "source": [
    "### Family Cost graph\n",
    "\n",
    "Cost taking into account the whole family (more than 1 person) accruing medical costs."
   ]
  },
  {
   "cell_type": "code",
   "execution_count": 31,
   "metadata": {
    "collapsed": false
   },
   "outputs": [
    {
     "data": {
      "image/png": "[encoded data removed]",
      "text/plain": [
       "<matplotlib.figure.Figure at 0x1084916a0>"
      ]
     },
     "metadata": {},
     "output_type": "display_data"
    }
   ],
   "source": [
    "# Calculate costs\n",
    "gross_costs = range(0, 70000)\n",
    "p1_costs = [family_cost(p1, cost) for cost in gross_costs]\n",
    "p2_costs = [family_cost(p2, cost) for cost in gross_costs]\n",
    "p3_costs = [family_cost(p3, cost) for cost in gross_costs]\n",
    "\n",
    "# Do graph\n",
    "setup_graph(title='Family costs', x_label='Gross cost', y_label='Cost to you', fig_size=(12,7))\n",
    "ax = plt.subplot(1,1,1)\n",
    "p1_graph, = ax.plot(gross_costs, p1_costs, label=\"Cigna HDHP/HSA\")\n",
    "p2_graph, = ax.plot(gross_costs, p2_costs, label=\"Cigna PPO $1000\")\n",
    "p3_graph, = ax.plot(gross_costs, p3_costs, label=\"Cigna PPO $500\")\n",
    "handles, labels = ax.get_legend_handles_labels()\n",
    "ax.legend(handles, labels, loc='upper left')\n",
    "plt.show()"
   ]
  },
  {
   "cell_type": "markdown",
   "metadata": {},
   "source": [
    "### Individual Cost\n",
    "\n",
    "Cost taking into account 1 person accruing medical costs."
   ]
  },
  {
   "cell_type": "code",
   "execution_count": 32,
   "metadata": {
    "collapsed": false
   },
   "outputs": [
    {
     "data": {
      "image/png": "[encoded data removed]",
      "text/plain": [
       "<matplotlib.figure.Figure at 0x10729c8d0>"
      ]
     },
     "metadata": {},
     "output_type": "display_data"
    }
   ],
   "source": [
    "# Calculate costs\n",
    "gross_costs = range(0, 50000)\n",
    "p1_costs = [individual_cost(p1, cost) for cost in gross_costs]\n",
    "p2_costs = [individual_cost(p2, cost) for cost in gross_costs]\n",
    "p3_costs = [individual_cost(p3, cost) for cost in gross_costs]\n",
    "\n",
    "# Do graph\n",
    "setup_graph(title='Individual costs', x_label='Gross cost', y_label='Cost to you', fig_size=(12,7))\n",
    "ax = plt.subplot(1,1,1)\n",
    "p1_graph, = ax.plot(gross_costs, p1_costs, label=\"Cigna HDHP/HSA\")\n",
    "p2_graph, = ax.plot(gross_costs, p2_costs, label=\"Cigna PPO $1000\")\n",
    "p3_graph, = ax.plot(gross_costs, p3_costs, label=\"Cigna PPO $500\")\n",
    "handles, labels = ax.get_legend_handles_labels()\n",
    "ax.legend(handles, labels, loc='upper left')\n",
    "plt.show()"
   ]
  },
  {
   "cell_type": "markdown",
   "metadata": {},
   "source": [
    "# Conclusion\n",
    "\n",
    "For family coverage, you should probably buy the High-Deductible Health Plan!\n",
    "\n",
    "NOTE: As these calculations don't factor in prescription drug benefits, and the PPO plans tend to be better for prescription drugs, if your family is likely to use many prescription drugs, you should look into those details."
   ]
  }
 ],
 "metadata": {
  "kernelspec": {
   "display_name": "Python 3",
   "language": "python",
   "name": "python3"
  },
  "language_info": {
   "codemirror_mode": {
    "name": "ipython",
    "version": 3
   },
   "file_extension": ".py",
   "mimetype": "text/x-python",
   "name": "python",
   "nbconvert_exporter": "python",
   "pygments_lexer": "ipython3",
   "version": "3.4.2"
  }
 },
 "nbformat": 4,
 "nbformat_minor": 0
}
