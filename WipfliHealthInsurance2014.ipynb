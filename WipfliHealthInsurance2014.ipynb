{
 "metadata": {
  "name": "",
  "signature": "sha256:426216c9a652f9268501f22b1fe7d2e24f1a43cd4713273a8e6b1e4551c41984"
 },
 "nbformat": 3,
 "nbformat_minor": 0,
 "worksheets": [
  {
   "cells": [
    {
     "cell_type": "markdown",
     "metadata": {},
     "source": [
      "# Wipfli Health Insurance 2014 Analysis\n",
      "\n",
      "### Assumptions:\n",
      "\n",
      "* In-network procedures\n",
      "* Non-tobacco users\n",
      "* Family plans\n",
      "* All medical bills are paid pre-tax (via either HSAs or FSAs)."
     ]
    },
    {
     "cell_type": "markdown",
     "metadata": {},
     "source": [
      "### Plan Details"
     ]
    },
    {
     "cell_type": "code",
     "collapsed": false,
     "input": [
      "class Plan:\n",
      "    def __init__(self): pass\n",
      "\n",
      "p1 = Plan()    \n",
      "p1.family_deductible = 1200.00\n",
      "p1.individual_deductible = 600.00\n",
      "p1.family_oopmax = 3600.00\n",
      "p1.individual_oopmax = 1800.00\n",
      "p1.family_cost_monthly = 910.00\n",
      "p1.hsa_contribution = 0.00\n",
      "p1.coinsurance_rate = 0.2\n",
      "\n",
      "p2 = Plan()\n",
      "p2.family_deductible = 3000.00\n",
      "p2.individual_deductible = 1500.00\n",
      "p2.family_oopmax = 6000.00\n",
      "p2.individual_oopmax = 3000.00\n",
      "p2.family_cost_monthly = 480.00\n",
      "p2.hsa_contribution = 900.00\n",
      "p2.coinsurance_rate = 0.2\n",
      "\n",
      "p3 = Plan()\n",
      "p3.family_deductible = 4600.00\n",
      "p3.individual_deductible = 2300.00\n",
      "p3.family_oopmax = 9200.00\n",
      "p3.individual_oopmax = 4600.00\n",
      "p3.family_cost_monthly = 186.00\n",
      "p3.hsa_contribution = 900.00\n",
      "p3.coinsurance_rate = 0.2"
     ],
     "language": "python",
     "metadata": {},
     "outputs": [],
     "prompt_number": 1
    },
    {
     "cell_type": "markdown",
     "metadata": {},
     "source": [
      "### Helper functions"
     ]
    },
    {
     "cell_type": "code",
     "collapsed": false,
     "input": [
      "# For the purposes of this estimation, we are assuming the deductible\n",
      "# is always larger than the HSA contribution amount\n",
      "def apply_deductible_and_hsa(cost, deductible, hsa):\n",
      "    cost_to_you = 0\n",
      "    cost_remaining = 0\n",
      "    \n",
      "    # Apply HSA\n",
      "    deductible_minus_hsa = deductible - hsa\n",
      "    \n",
      "    if cost <= hsa:\n",
      "        cost_to_you = 0\n",
      "        cost_remaining = 0\n",
      "    elif cost <= deductible:\n",
      "        cost_to_you = cost - hsa\n",
      "        cost_remaining = 0\n",
      "    elif cost > deductible:\n",
      "        cost_to_you = deductible_minus_hsa\n",
      "        cost_remaining = cost - deductible\n",
      "\n",
      "    return (cost_to_you, cost_remaining)\n",
      "\n",
      "def apply_coinsurance(cost, coinsurance_rate):\n",
      "    return cost * coinsurance_rate\n",
      "\n",
      "def apply_oopmax(cost, oopmax):\n",
      "    if cost >= oopmax:\n",
      "        return oopmax\n",
      "    else:\n",
      "        return cost\n",
      "    \n",
      "def setup_graph(title='', x_label='', y_label='', fig_size=None):\n",
      "    fig = plt.figure()\n",
      "    if fig_size != None:\n",
      "        fig.set_size_inches(fig_size[0], fig_size[1])\n",
      "    ax = fig.add_subplot(111)\n",
      "    ax.set_title(title)\n",
      "    ax.set_xlabel(x_label)\n",
      "    ax.set_ylabel(y_label)\n",
      "    "
     ],
     "language": "python",
     "metadata": {},
     "outputs": [],
     "prompt_number": 2
    },
    {
     "cell_type": "markdown",
     "metadata": {},
     "source": [
      "### Plan cost functions"
     ]
    },
    {
     "cell_type": "code",
     "collapsed": false,
     "input": [
      "def individual_cost(plan, gross_cost):\n",
      "    (cost_to_you, cost_remaining) = apply_deductible_and_hsa(gross_cost, \n",
      "                                    plan.individual_deductible, \n",
      "                                    plan.hsa_contribution)\n",
      "    cost_to_you += apply_coinsurance(cost_remaining, plan.coinsurance_rate)\n",
      "    cost_to_you = apply_oopmax(cost_to_you, plan.individual_oopmax)\n",
      "    \n",
      "    # Apply yearly premiums - note that the out-of-pocket max doesn't include\n",
      "    # the premiums; thus, we apply them after applying out-of-pocket max.\n",
      "    cost_to_you += (plan.family_cost_monthly * 12)\n",
      "    return cost_to_you\n",
      "    \n",
      "    \n",
      "def family_cost(plan, gross_cost):\n",
      "    (cost_to_you, cost_remaining) = apply_deductible_and_hsa(gross_cost, \n",
      "                                    plan.family_deductible, \n",
      "                                    plan.hsa_contribution)\n",
      "    cost_to_you += apply_coinsurance(cost_remaining, plan.coinsurance_rate)\n",
      "    cost_to_you = apply_oopmax(cost_to_you, plan.family_oopmax)\n",
      "    \n",
      "    # Apply yearly premiums - note that the out-of-pocket max doesn't include\n",
      "    # the premiums; thus, we apply them after applying out-of-pocket max.\n",
      "    cost_to_you += (plan.family_cost_monthly * 12)\n",
      "    return cost_to_you\n"
     ],
     "language": "python",
     "metadata": {},
     "outputs": [],
     "prompt_number": 3
    },
    {
     "cell_type": "markdown",
     "metadata": {},
     "source": [
      "### Sanity Tests"
     ]
    },
    {
     "cell_type": "markdown",
     "metadata": {},
     "source": [
      "#### Zero costs"
     ]
    },
    {
     "cell_type": "code",
     "collapsed": false,
     "input": [
      "# Should be the monthly premium times 12 (to make up the yearly premium).\n",
      "family_cost(p1, 0)"
     ],
     "language": "python",
     "metadata": {},
     "outputs": [
      {
       "metadata": {},
       "output_type": "pyout",
       "prompt_number": 4,
       "text": [
        "10920.0"
       ]
      }
     ],
     "prompt_number": 4
    },
    {
     "cell_type": "code",
     "collapsed": false,
     "input": [
      "p1.family_cost_monthly * 12"
     ],
     "language": "python",
     "metadata": {},
     "outputs": [
      {
       "metadata": {},
       "output_type": "pyout",
       "prompt_number": 5,
       "text": [
        "10920.0"
       ]
      }
     ],
     "prompt_number": 5
    },
    {
     "cell_type": "code",
     "collapsed": false,
     "input": [
      "family_cost(p2, 0)"
     ],
     "language": "python",
     "metadata": {},
     "outputs": [
      {
       "metadata": {},
       "output_type": "pyout",
       "prompt_number": 6,
       "text": [
        "5760.0"
       ]
      }
     ],
     "prompt_number": 6
    },
    {
     "cell_type": "code",
     "collapsed": false,
     "input": [
      "p2.family_cost_monthly * 12"
     ],
     "language": "python",
     "metadata": {},
     "outputs": [
      {
       "metadata": {},
       "output_type": "pyout",
       "prompt_number": 7,
       "text": [
        "5760.0"
       ]
      }
     ],
     "prompt_number": 7
    },
    {
     "cell_type": "code",
     "collapsed": false,
     "input": [
      "family_cost(p3, 0)"
     ],
     "language": "python",
     "metadata": {},
     "outputs": [
      {
       "metadata": {},
       "output_type": "pyout",
       "prompt_number": 8,
       "text": [
        "2232.0"
       ]
      }
     ],
     "prompt_number": 8
    },
    {
     "cell_type": "code",
     "collapsed": false,
     "input": [
      "p3.family_cost_monthly * 12"
     ],
     "language": "python",
     "metadata": {},
     "outputs": [
      {
       "metadata": {},
       "output_type": "pyout",
       "prompt_number": 9,
       "text": [
        "2232.0"
       ]
      }
     ],
     "prompt_number": 9
    },
    {
     "cell_type": "markdown",
     "metadata": {},
     "source": [
      "#### Cost less than HSA"
     ]
    },
    {
     "cell_type": "code",
     "collapsed": false,
     "input": [
      "# Should be monthly premium times 12\n",
      "family_cost(p3, 500) == p3.family_cost_monthly * 12"
     ],
     "language": "python",
     "metadata": {},
     "outputs": [
      {
       "metadata": {},
       "output_type": "pyout",
       "prompt_number": 10,
       "text": [
        "True"
       ]
      }
     ],
     "prompt_number": 10
    },
    {
     "cell_type": "markdown",
     "metadata": {},
     "source": [
      "#### Cost greater than HSA and deductible"
     ]
    },
    {
     "cell_type": "code",
     "collapsed": false,
     "input": [
      "(p3.family_cost_monthly * 12) + \\\n",
      "(p3.family_deductible - p3.hsa_contribution) + \\\n",
      "(6000 - p3.family_deductible) * p3.coinsurance_rate"
     ],
     "language": "python",
     "metadata": {},
     "outputs": [
      {
       "metadata": {},
       "output_type": "pyout",
       "prompt_number": 11,
       "text": [
        "6212.0"
       ]
      }
     ],
     "prompt_number": 11
    },
    {
     "cell_type": "code",
     "collapsed": false,
     "input": [
      "family_cost(p3, 6000)"
     ],
     "language": "python",
     "metadata": {},
     "outputs": [
      {
       "metadata": {},
       "output_type": "pyout",
       "prompt_number": 12,
       "text": [
        "6212.0"
       ]
      }
     ],
     "prompt_number": 12
    },
    {
     "cell_type": "markdown",
     "metadata": {},
     "source": [
      "### Family Cost graph"
     ]
    },
    {
     "cell_type": "code",
     "collapsed": false,
     "input": [
      "# Calculate costs\n",
      "gross_costs = range(0, 40000)\n",
      "p1_costs = [family_cost(p1, cost) for cost in gross_costs]\n",
      "p2_costs = [family_cost(p2, cost) for cost in gross_costs]\n",
      "p3_costs = [family_cost(p3, cost) for cost in gross_costs]\n",
      "\n",
      "# Do graph\n",
      "setup_graph(title='Family costs', x_label='Gross cost', y_label='Cost to you', fig_size=(12,7))\n",
      "ax = subplot(1,1,1)\n",
      "p1_graph, = ax.plot(gross_costs, p1_costs, label=\"Plan 1\")\n",
      "p2_graph, = ax.plot(gross_costs, p2_costs, label=\"Plan 2\")\n",
      "p3_graph, = ax.plot(gross_costs, p3_costs, label=\"Plan 3\")\n",
      "handles, labels = ax.get_legend_handles_labels()\n",
      "ax.legend(handles, labels)\n",
      "pylab.show()"
     ],
     "language": "python",
     "metadata": {},
     "outputs": [
      {
       "metadata": {},
       "output_type": "display_data",
       "png": "[encoded data removed]",
       "text": [
        "<matplotlib.figure.Figure at 0x7f55722cd510>"
       ]
      }
     ],
     "prompt_number": 13
    },
    {
     "cell_type": "markdown",
     "metadata": {},
     "source": [
      "### Individual cost"
     ]
    },
    {
     "cell_type": "code",
     "collapsed": false,
     "input": [
      "# Calculate costs\n",
      "gross_costs = range(0, 40000)\n",
      "p1_costs = [individual_cost(p1, cost) for cost in gross_costs]\n",
      "p2_costs = [individual_cost(p2, cost) for cost in gross_costs]\n",
      "p3_costs = [individual_cost(p3, cost) for cost in gross_costs]\n",
      "\n",
      "# Do graph\n",
      "setup_graph(title='Individual costs', x_label='Gross cost', y_label='Cost to you', fig_size=(12,7))\n",
      "ax = subplot(1,1,1)\n",
      "p1_graph, = ax.plot(gross_costs, p1_costs, label=\"Plan 1\")\n",
      "p2_graph, = ax.plot(gross_costs, p2_costs, label=\"Plan 2\")\n",
      "p3_graph, = ax.plot(gross_costs, p3_costs, label=\"Plan 3\")\n",
      "handles, labels = ax.get_legend_handles_labels()\n",
      "ax.legend(handles, labels)\n",
      "pylab.show()"
     ],
     "language": "python",
     "metadata": {},
     "outputs": [
      {
       "metadata": {},
       "output_type": "display_data",
       "png": "[encoded data removed]",
       "text": [
        "<matplotlib.figure.Figure at 0x7f557200ee50>"
       ]
      }
     ],
     "prompt_number": 14
    },
    {
     "cell_type": "markdown",
     "metadata": {},
     "source": [
      "### Conclusion\n",
      "\n",
      "It seems pretty clear that **Plan 3** is the one to buy :)  And here is how I feel about **Plan 1**..."
     ]
    },
    {
     "cell_type": "code",
     "collapsed": false,
     "input": [
      "from IPython.display import YouTubeVideo\n",
      "YouTubeVideo('4F4qzPbcFiA')"
     ],
     "language": "python",
     "metadata": {},
     "outputs": [
      {
       "html": [
        "\n",
        "        <iframe\n",
        "            width=\"400\"\n",
        "            height=300\"\n",
        "            src=\"https://www.youtube.com/embed/4F4qzPbcFiA\"\n",
        "            frameborder=\"0\"\n",
        "            allowfullscreen\n",
        "        ></iframe>\n",
        "        "
       ],
       "metadata": {},
       "output_type": "pyout",
       "prompt_number": 15,
       "text": [
        "<IPython.lib.display.YouTubeVideo at 0x7f5572193b10>"
       ]
      }
     ],
     "prompt_number": 15
    },
    {
     "cell_type": "code",
     "collapsed": false,
     "input": [],
     "language": "python",
     "metadata": {},
     "outputs": [],
     "prompt_number": 15
    }
   ],
   "metadata": {}
  }
 ]
}